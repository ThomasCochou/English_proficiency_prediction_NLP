{
 "cells": [
  {
   "cell_type": "code",
   "execution_count": 1,
   "id": "bd464980",
   "metadata": {},
   "outputs": [
    {
     "name": "stderr",
     "output_type": "stream",
     "text": [
      "Using TensorFlow backend.\n"
     ]
    }
   ],
   "source": [
    "import os, pathlib, shutil, random\n",
    "from tensorflow import keras\n",
    "from keras.models import Sequential\n",
    "from keras.layers import Embedding, Flatten, Dense\n",
    "from keras import preprocessing\n",
    "import numpy as np\n",
    "import tensorflow as tf"
   ]
  },
  {
   "cell_type": "code",
   "execution_count": 2,
   "id": "e15a0a71",
   "metadata": {},
   "outputs": [],
   "source": [
    "train_data_matrix_path = \"preprocessed_text/matrix_train_data/\"\n",
    "test_data_matrix_path = \"preprocessed_text/matrix_test_data/\""
   ]
  },
  {
   "cell_type": "code",
   "execution_count": 5,
   "id": "1d9ff80d",
   "metadata": {},
   "outputs": [],
   "source": [
    "def to_tensor(arg):\n",
    "    arg = tf.convert_to_tensor(arg, dtype=tf.float32)\n",
    "    return arg\n",
    "\n",
    "def create_input(path):\n",
    "    os.chdir(path)\n",
    "\n",
    "    x = list()\n",
    "    y = list()\n",
    "\n",
    "\n",
    "    for input_file in os.listdir():\n",
    "        if input_file.endswith(\".out\"):\n",
    "            y_value = [0] * 9\n",
    "            x.append(np.loadtxt(input_file))\n",
    "            y_value[int(input_file.split(\"_\")[1].split(\".\")[0])-1] = 1\n",
    "            y.append(y_value)\n",
    "\n",
    "    os.chdir(\"../../\")\n",
    "\n",
    "    return x,y"
   ]
  },
  {
   "cell_type": "code",
   "execution_count": 6,
   "id": "7f7de1b6",
   "metadata": {},
   "outputs": [
    {
     "name": "stdout",
     "output_type": "stream",
     "text": [
      "x_train : (896, 8582)\n",
      "y_train : (896, 9)\n",
      "x_test : (385, 8582)\n",
      "y_test :  (385, 9)\n"
     ]
    }
   ],
   "source": [
    "x_train, y_train = create_input(train_data_matrix_path)\n",
    "x_test, y_test = create_input(test_data_matrix_path)\n",
    "\n",
    "x_train = to_tensor(x_train)\n",
    "y_train = to_tensor(y_train)\n",
    "x_test = to_tensor(x_test)\n",
    "y_test = to_tensor(y_test)\n",
    "\n",
    "print(\"x_train :\", x_train.shape)\n",
    "print(\"y_train :\", y_train.shape)\n",
    "print(\"x_test :\", x_test.shape)\n",
    "print(\"y_test : \", y_test.shape)"
   ]
  },
  {
   "cell_type": "code",
   "execution_count": 24,
   "id": "6ceacff7",
   "metadata": {},
   "outputs": [
    {
     "name": "stdout",
     "output_type": "stream",
     "text": [
      "tf.Tensor(1.0, shape=(), dtype=float32)\n"
     ]
    }
   ],
   "source": [
    "for i in range(y_train.shape[0]):\n",
    "    for j in range(y_train.shape[1]):\n",
    "        if "
   ]
  },
  {
   "cell_type": "code",
   "execution_count": null,
   "id": "236c60ce",
   "metadata": {},
   "outputs": [],
   "source": []
  },
  {
   "cell_type": "code",
   "execution_count": 100,
   "id": "e4d40a0d",
   "metadata": {},
   "outputs": [
    {
     "name": "stdout",
     "output_type": "stream",
     "text": [
      "x_train shape : (896, 8582)\n",
      "y_train shape : (896,)\n",
      "tf.Tensor([0.         0.06025492 0.0359212  ... 0.         0.         0.        ], shape=(8582,), dtype=float32)\n"
     ]
    }
   ],
   "source": [
    "print('x_train shape :', x_train.shape)\n",
    "print('y_train shape :', y_train.shape)\n",
    "\n",
    "print(x_train[10])"
   ]
  },
  {
   "cell_type": "code",
   "execution_count": 9,
   "id": "5b90c05f",
   "metadata": {},
   "outputs": [
    {
     "name": "stdout",
     "output_type": "stream",
     "text": [
      "Model: \"sequential_1\"\n",
      "_________________________________________________________________\n",
      "Layer (type)                 Output Shape              Param #   \n",
      "=================================================================\n",
      "dense_2 (Dense)              (None, 896, 50)           429150    \n",
      "_________________________________________________________________\n",
      "dense_3 (Dense)              (None, 896, 9)            459       \n",
      "=================================================================\n",
      "Total params: 429,609\n",
      "Trainable params: 429,609\n",
      "Non-trainable params: 0\n",
      "_________________________________________________________________\n"
     ]
    }
   ],
   "source": [
    "model = Sequential()\n",
    "model.add(Dense(50, input_shape=x_train.shape, activation='relu'))\n",
    "model.add(Dense(9, activation='softmax'))\n",
    "model.summary()\n",
    "\n",
    "opt = keras.optimizers.SGD(learning_rate=0.1, momentum=0.9)\n",
    "model.compile(loss='categorical_crossentropy', optimizer=opt, metrics=['accuracy'])"
   ]
  },
  {
   "cell_type": "code",
   "execution_count": 11,
   "id": "a605461d",
   "metadata": {},
   "outputs": [
    {
     "name": "stdout",
     "output_type": "stream",
     "text": [
      "Epoch 1/50\n",
      "28/28 - 0s - loss: 1.5970 - accuracy: 0.4163\n",
      "Epoch 2/50\n",
      "28/28 - 0s - loss: 1.5960 - accuracy: 0.4163\n",
      "Epoch 3/50\n",
      "28/28 - 0s - loss: 1.5953 - accuracy: 0.4163\n",
      "Epoch 4/50\n",
      "28/28 - 0s - loss: 1.5986 - accuracy: 0.4163\n",
      "Epoch 5/50\n",
      "28/28 - 0s - loss: 1.5943 - accuracy: 0.4163\n",
      "Epoch 6/50\n",
      "28/28 - 0s - loss: 1.5918 - accuracy: 0.4163\n",
      "Epoch 7/50\n",
      "28/28 - 0s - loss: 1.5920 - accuracy: 0.4163\n",
      "Epoch 8/50\n",
      "28/28 - 0s - loss: 1.5920 - accuracy: 0.4163\n",
      "Epoch 9/50\n",
      "28/28 - 0s - loss: 1.5822 - accuracy: 0.4163\n",
      "Epoch 10/50\n",
      "28/28 - 0s - loss: 1.5853 - accuracy: 0.4163\n",
      "Epoch 11/50\n",
      "28/28 - 0s - loss: 1.5769 - accuracy: 0.4163\n",
      "Epoch 12/50\n",
      "28/28 - 0s - loss: 1.5725 - accuracy: 0.4163\n",
      "Epoch 13/50\n",
      "28/28 - 0s - loss: 1.5756 - accuracy: 0.4163\n",
      "Epoch 14/50\n",
      "28/28 - 0s - loss: 1.5692 - accuracy: 0.4163\n",
      "Epoch 15/50\n",
      "28/28 - 0s - loss: 1.5610 - accuracy: 0.4163\n",
      "Epoch 16/50\n",
      "28/28 - 0s - loss: 1.5642 - accuracy: 0.4163\n",
      "Epoch 17/50\n",
      "28/28 - 0s - loss: 1.5590 - accuracy: 0.4185\n",
      "Epoch 18/50\n",
      "28/28 - 0s - loss: 1.5415 - accuracy: 0.4163\n",
      "Epoch 19/50\n",
      "28/28 - 0s - loss: 1.5347 - accuracy: 0.4174\n",
      "Epoch 20/50\n",
      "28/28 - 0s - loss: 1.5285 - accuracy: 0.4174\n",
      "Epoch 21/50\n",
      "28/28 - 0s - loss: 1.5140 - accuracy: 0.4196\n",
      "Epoch 22/50\n",
      "28/28 - 0s - loss: 1.5205 - accuracy: 0.4141\n",
      "Epoch 23/50\n",
      "28/28 - 0s - loss: 1.4829 - accuracy: 0.4252\n",
      "Epoch 24/50\n",
      "28/28 - 0s - loss: 1.4648 - accuracy: 0.4219\n",
      "Epoch 25/50\n",
      "28/28 - 0s - loss: 1.5063 - accuracy: 0.4252\n",
      "Epoch 26/50\n",
      "28/28 - 0s - loss: 1.4576 - accuracy: 0.4431\n",
      "Epoch 27/50\n",
      "28/28 - 0s - loss: 1.4385 - accuracy: 0.4297\n",
      "Epoch 28/50\n",
      "28/28 - 0s - loss: 1.4055 - accuracy: 0.4308\n",
      "Epoch 29/50\n",
      "28/28 - 0s - loss: 1.4404 - accuracy: 0.4531\n",
      "Epoch 30/50\n",
      "28/28 - 0s - loss: 1.3755 - accuracy: 0.4453\n",
      "Epoch 31/50\n",
      "28/28 - 0s - loss: 1.3931 - accuracy: 0.4353\n",
      "Epoch 32/50\n",
      "28/28 - 0s - loss: 1.3856 - accuracy: 0.4498\n",
      "Epoch 33/50\n",
      "28/28 - 0s - loss: 1.3341 - accuracy: 0.4665\n",
      "Epoch 34/50\n",
      "28/28 - 0s - loss: 1.3723 - accuracy: 0.4386\n",
      "Epoch 35/50\n",
      "28/28 - 0s - loss: 1.3706 - accuracy: 0.4487\n",
      "Epoch 36/50\n",
      "28/28 - 0s - loss: 1.3512 - accuracy: 0.4509\n",
      "Epoch 37/50\n",
      "28/28 - 0s - loss: 1.3420 - accuracy: 0.4788\n",
      "Epoch 38/50\n",
      "28/28 - 0s - loss: 1.2993 - accuracy: 0.4844\n",
      "Epoch 39/50\n",
      "28/28 - 0s - loss: 1.2697 - accuracy: 0.4688\n",
      "Epoch 40/50\n",
      "28/28 - 0s - loss: 1.2693 - accuracy: 0.4933\n",
      "Epoch 41/50\n",
      "28/28 - 0s - loss: 1.3278 - accuracy: 0.4665\n",
      "Epoch 42/50\n",
      "28/28 - 0s - loss: 1.3166 - accuracy: 0.4699\n",
      "Epoch 43/50\n",
      "28/28 - 0s - loss: 1.2969 - accuracy: 0.4431\n",
      "Epoch 44/50\n",
      "28/28 - 0s - loss: 1.2783 - accuracy: 0.4944\n",
      "Epoch 45/50\n",
      "28/28 - 0s - loss: 1.3161 - accuracy: 0.4576\n",
      "Epoch 46/50\n",
      "28/28 - 0s - loss: 1.3473 - accuracy: 0.4498\n",
      "Epoch 47/50\n",
      "28/28 - 0s - loss: 1.2362 - accuracy: 0.5179\n",
      "Epoch 48/50\n",
      "28/28 - 0s - loss: 1.2520 - accuracy: 0.4989\n",
      "Epoch 49/50\n",
      "28/28 - 0s - loss: 1.2395 - accuracy: 0.4989\n",
      "Epoch 50/50\n",
      "28/28 - 0s - loss: 1.2288 - accuracy: 0.4922\n"
     ]
    },
    {
     "data": {
      "text/plain": [
       "<tensorflow.python.keras.callbacks.History at 0x19bdf6b09a0>"
      ]
     },
     "execution_count": 11,
     "metadata": {},
     "output_type": "execute_result"
    }
   ],
   "source": [
    "model.fit(x_train, y_train, epochs=50, verbose=2)"
   ]
  },
  {
   "cell_type": "code",
   "execution_count": null,
   "id": "555af8f4",
   "metadata": {},
   "outputs": [],
   "source": []
  }
 ],
 "metadata": {
  "kernelspec": {
   "display_name": "Python 3.8 (tensorflow 2.3)",
   "language": "python",
   "name": "tensorflow"
  },
  "language_info": {
   "codemirror_mode": {
    "name": "ipython",
    "version": 3
   },
   "file_extension": ".py",
   "mimetype": "text/x-python",
   "name": "python",
   "nbconvert_exporter": "python",
   "pygments_lexer": "ipython3",
   "version": "3.8.11"
  }
 },
 "nbformat": 4,
 "nbformat_minor": 5
}
