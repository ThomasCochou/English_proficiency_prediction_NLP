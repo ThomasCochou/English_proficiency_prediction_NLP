{
 "cells": [
  {
   "cell_type": "code",
   "execution_count": 1,
   "id": "bd464980",
   "metadata": {},
   "outputs": [],
   "source": [
    "import os\n",
    "from collections import Counter\n",
    "from keras.preprocessing.text import Tokenizer\n",
    "import numpy as np\n",
    "from bs4 import BeautifulSoup\n",
    "import re\n",
    "import xlrd"
   ]
  },
  {
   "cell_type": "markdown",
   "id": "ef2d5e48",
   "metadata": {},
   "source": [
    "# 1 - Preprocessing"
   ]
  },
  {
   "cell_type": "code",
   "execution_count": 2,
   "id": "1d9ff80d",
   "metadata": {},
   "outputs": [],
   "source": [
    "input_path = \"NICT_JLE_4.1/LearnerOriginal\"\n",
    "xls_path = \"NICT_JLE_4.1/NICT_JLE_list.xls\"\n",
    "\n",
    "#PARAMETERS\n",
    "output_path = \"preprocessed_text/\"\n",
    "\n",
    "train_data_path = \"train_data/\"\n",
    "test_data_path = \"test_data/\"\n",
    "\n",
    "ratio_train_test = 0.7"
   ]
  },
  {
   "cell_type": "code",
   "execution_count": 3,
   "id": "e4d40a0d",
   "metadata": {},
   "outputs": [
    {
     "name": "stdout",
     "output_type": "stream",
     "text": [
      "Preprocessing = 1282/1282\r"
     ]
    }
   ],
   "source": [
    "if not os.path.exists(output_path+train_data_path):\n",
    "\tos.makedirs(output_path+train_data_path)\n",
    "\n",
    "if not os.path.exists(output_path+test_data_path):\n",
    "\tos.makedirs(output_path+test_data_path)\n",
    "\n",
    "\n",
    "wb = xlrd.open_workbook(xls_path)\n",
    "sheet = wb.sheet_by_index(0)\n",
    "\n",
    "os.chdir(input_path)\n",
    "\n",
    "folder_len = len([name for name in os.listdir() if (os.path.isfile(name) and name.endswith(\".txt\"))])\n",
    "\n",
    "cnt = 1\n",
    "\n",
    "for input_file in os.listdir():\n",
    "    if input_file.endswith(\".txt\"):\n",
    "\n",
    "        input_text = open(input_file,'r', errors='ignore')\n",
    "        input_string = input_text.read()\n",
    "        input_text.close()\n",
    "\n",
    "        soup = BeautifulSoup(input_string,'lxml')\n",
    "        input_soup = soup.find_all('b')\n",
    "        input_string = \"\".join(str(input_soup))\n",
    "\n",
    "        soup = BeautifulSoup(input_string,'lxml')\n",
    "        input_soup = soup.get_text()\n",
    "        input_string = \"\".join(str(input_soup))\n",
    "\n",
    "        input_string = re.sub(\">\",\"\",input_string)\n",
    "\n",
    "        pattern = re.compile('[a-zA-Z_ ]')\n",
    "        matches = pattern.findall(input_string)\n",
    "        preproccesed_text = \"\".join(matches)\n",
    "\n",
    "        if cnt < folder_len*ratio_train_test :\n",
    "        \tos.chdir(\"../../\"+output_path+train_data_path)\n",
    "        else :\n",
    "        \tos.chdir(\"../../\"+output_path+test_data_path)\n",
    "\n",
    "        for row_num in range(sheet.nrows):\n",
    "            row_value = sheet.row_values(row_num)\n",
    "            if row_value[0].split(\".\")[0] == input_file.split(\".\")[0] :\n",
    "                output_text = open(input_file.split(\".\")[0]+\"_\"+str(int(row_value[2]))+\".txt\", \"w\") \n",
    "                output_text.write(preproccesed_text)\n",
    "                output_text.close() \n",
    "\n",
    "        print(\"Preprocessing = \"+str(cnt)+\"/\"+str(folder_len), end=\"\\r\")\n",
    "\n",
    "        cnt += 1\n",
    "        os.chdir(\"../../\"+input_path)"
   ]
  },
  {
   "cell_type": "markdown",
   "id": "133181e5",
   "metadata": {},
   "source": [
    "# 2 - Bag of words"
   ]
  },
  {
   "cell_type": "code",
   "execution_count": 4,
   "id": "e8c312ee",
   "metadata": {},
   "outputs": [],
   "source": [
    "train_data_path = \"preprocessed_text/train_data/\"\n",
    "test_data_path = \"preprocessed_text/test_data/\"\n",
    "\n",
    "output_train_data_path = \"preprocessed_text/matrix_train_data/\"\n",
    "output_test_data_path = \"preprocessed_text/matrix_test_data/\"\n",
    "\n",
    "#PARAMETERS\n",
    "MIN_OCCURANE = 2"
   ]
  },
  {
   "cell_type": "markdown",
   "id": "0acb54cc",
   "metadata": {},
   "source": [
    "### VOCABULARY"
   ]
  },
  {
   "cell_type": "code",
   "execution_count": 5,
   "id": "b5fbf614",
   "metadata": {},
   "outputs": [],
   "source": [
    "def create_vocab(path, vocab):\n",
    "\n",
    "    os.chdir(path)\n",
    "\n",
    "    for input_file in os.listdir():\n",
    "        if input_file.endswith(\".txt\"):\n",
    "            input_text = open(input_file,'r')\n",
    "            input_string = input_text.read()\n",
    "            input_text.close()\n",
    "\n",
    "            tokens = input_string.split()\n",
    "            vocab.update(tokens)\n",
    "\n",
    "    tokens = [k for k,c in vocab.items() if c >= MIN_OCCURANE]\n",
    "\n",
    "    os.chdir(\"../../\")\n",
    "\n",
    "    vocab_string = ' '.join(tokens)\n",
    "    output_file = open(\"vocab.txt\",'w')\n",
    "    output_file.write(vocab_string)\n",
    "    output_file.close()\n",
    "\n",
    "    return tokens, vocab"
   ]
  },
  {
   "cell_type": "markdown",
   "id": "e441d8dc",
   "metadata": {},
   "source": [
    "### DATASET"
   ]
  },
  {
   "cell_type": "code",
   "execution_count": 6,
   "id": "339d1cd2",
   "metadata": {},
   "outputs": [],
   "source": [
    "def transform_dataset(path, tokens, tokenizer) :\n",
    "    docs = list()\n",
    "\n",
    "    os.chdir(path)\n",
    "\n",
    "    for input_file in os.listdir():\n",
    "        if input_file.endswith(\".txt\"):\n",
    "            input_text = open(input_file,'r')\n",
    "            input_string = input_text.read()\n",
    "            input_text.close()\n",
    "\n",
    "            tokens_dataset = input_string.split()\n",
    "            tokens_dataset = [w for w in tokens_dataset if w in tokens]\n",
    "            line = ' '.join(tokens_dataset)\n",
    "            docs.append(line)\n",
    "\n",
    "    if path.endswith(\"train_data/\"):\n",
    "        tokenizer.fit_on_texts(docs)\n",
    "\n",
    "    tokenized_data = tokenizer.texts_to_matrix(docs, mode='freq')\n",
    "\n",
    "    os.chdir(\"../../\")\n",
    "\n",
    "    return tokenizer, tokenized_data"
   ]
  },
  {
   "cell_type": "markdown",
   "id": "7c8d3c96",
   "metadata": {},
   "source": [
    "### OUTPUT"
   ]
  },
  {
   "cell_type": "code",
   "execution_count": 7,
   "id": "67b9355c",
   "metadata": {},
   "outputs": [],
   "source": [
    "def output_matrix(input_path, output_path, tokenized_data):\n",
    "    name_list = list()\n",
    "\n",
    "    os.chdir(input_path)\n",
    "\n",
    "    for input_file in os.listdir():\n",
    "        if input_file.endswith(\".txt\"):\n",
    "            name_list.append(input_file.split(\".\")[0])\n",
    "\n",
    "\n",
    "    if not os.path.exists(\"../../\"+output_path):\n",
    "        os.makedirs(\"../../\"+output_path)\n",
    "    os.chdir(\"../../\"+output_path)\n",
    "\n",
    "    i = 0\n",
    "    for name in name_list :\n",
    "        np.savetxt(name+'.out', tokenized_data[i], delimiter=',')\n",
    "        i += 1\n",
    "\n",
    "    os.chdir(\"../../\")"
   ]
  },
  {
   "cell_type": "markdown",
   "id": "9069a4d9",
   "metadata": {},
   "source": [
    "### PROGRAM"
   ]
  },
  {
   "cell_type": "code",
   "execution_count": 8,
   "id": "05a1efbe",
   "metadata": {},
   "outputs": [
    {
     "name": "stdout",
     "output_type": "stream",
     "text": [
      "The 50 most common words: []\n"
     ]
    },
    {
     "ename": "ValueError",
     "evalue": "Specify a dimension (`num_words` argument), or fit on some text data first.",
     "output_type": "error",
     "traceback": [
      "\u001b[1;31m---------------------------------------------------------------------------\u001b[0m",
      "\u001b[1;31mValueError\u001b[0m                                Traceback (most recent call last)",
      "\u001b[1;32m~\\AppData\\Local\\Temp/ipykernel_11984/1133529431.py\u001b[0m in \u001b[0;36m<module>\u001b[1;34m\u001b[0m\n\u001b[0;32m      9\u001b[0m \u001b[0mprint\u001b[0m\u001b[1;33m(\u001b[0m\u001b[1;34m\"The 50 most common words: \"\u001b[0m\u001b[1;33m+\u001b[0m\u001b[0mstr\u001b[0m\u001b[1;33m(\u001b[0m\u001b[0mvocab\u001b[0m\u001b[1;33m.\u001b[0m\u001b[0mmost_common\u001b[0m\u001b[1;33m(\u001b[0m\u001b[1;36m50\u001b[0m\u001b[1;33m)\u001b[0m\u001b[1;33m)\u001b[0m\u001b[1;33m)\u001b[0m\u001b[1;33m\u001b[0m\u001b[1;33m\u001b[0m\u001b[0m\n\u001b[0;32m     10\u001b[0m \u001b[1;33m\u001b[0m\u001b[0m\n\u001b[1;32m---> 11\u001b[1;33m \u001b[0mtokenizer\u001b[0m\u001b[1;33m,\u001b[0m \u001b[0mtokenized_train_data\u001b[0m \u001b[1;33m=\u001b[0m \u001b[0mtransform_dataset\u001b[0m\u001b[1;33m(\u001b[0m\u001b[0mtrain_data_path\u001b[0m\u001b[1;33m,\u001b[0m\u001b[0mtokens\u001b[0m\u001b[1;33m,\u001b[0m\u001b[0mtokenizer\u001b[0m\u001b[1;33m)\u001b[0m\u001b[1;33m\u001b[0m\u001b[1;33m\u001b[0m\u001b[0m\n\u001b[0m\u001b[0;32m     12\u001b[0m \u001b[0mtokenizer\u001b[0m\u001b[1;33m,\u001b[0m \u001b[0mtokenized_test_data\u001b[0m \u001b[1;33m=\u001b[0m \u001b[0mtransform_dataset\u001b[0m\u001b[1;33m(\u001b[0m\u001b[0mtest_data_path\u001b[0m\u001b[1;33m,\u001b[0m\u001b[0mtokens\u001b[0m\u001b[1;33m,\u001b[0m\u001b[0mtokenizer\u001b[0m\u001b[1;33m)\u001b[0m\u001b[1;33m\u001b[0m\u001b[1;33m\u001b[0m\u001b[0m\n\u001b[0;32m     13\u001b[0m \u001b[1;33m\u001b[0m\u001b[0m\n",
      "\u001b[1;32m~\\AppData\\Local\\Temp/ipykernel_11984/1307414415.py\u001b[0m in \u001b[0;36mtransform_dataset\u001b[1;34m(path, tokens, tokenizer)\u001b[0m\n\u001b[0;32m     18\u001b[0m         \u001b[0mtokenizer\u001b[0m\u001b[1;33m.\u001b[0m\u001b[0mfit_on_texts\u001b[0m\u001b[1;33m(\u001b[0m\u001b[0mdocs\u001b[0m\u001b[1;33m)\u001b[0m\u001b[1;33m\u001b[0m\u001b[1;33m\u001b[0m\u001b[0m\n\u001b[0;32m     19\u001b[0m \u001b[1;33m\u001b[0m\u001b[0m\n\u001b[1;32m---> 20\u001b[1;33m     \u001b[0mtokenized_data\u001b[0m \u001b[1;33m=\u001b[0m \u001b[0mtokenizer\u001b[0m\u001b[1;33m.\u001b[0m\u001b[0mtexts_to_matrix\u001b[0m\u001b[1;33m(\u001b[0m\u001b[0mdocs\u001b[0m\u001b[1;33m,\u001b[0m \u001b[0mmode\u001b[0m\u001b[1;33m=\u001b[0m\u001b[1;34m'freq'\u001b[0m\u001b[1;33m)\u001b[0m\u001b[1;33m\u001b[0m\u001b[1;33m\u001b[0m\u001b[0m\n\u001b[0m\u001b[0;32m     21\u001b[0m \u001b[1;33m\u001b[0m\u001b[0m\n\u001b[0;32m     22\u001b[0m     \u001b[0mos\u001b[0m\u001b[1;33m.\u001b[0m\u001b[0mchdir\u001b[0m\u001b[1;33m(\u001b[0m\u001b[1;34m\"../../\"\u001b[0m\u001b[1;33m)\u001b[0m\u001b[1;33m\u001b[0m\u001b[1;33m\u001b[0m\u001b[0m\n",
      "\u001b[1;32m~\\.conda\\envs\\tensorflow\\lib\\site-packages\\keras_preprocessing\\text.py\u001b[0m in \u001b[0;36mtexts_to_matrix\u001b[1;34m(self, texts, mode)\u001b[0m\n\u001b[0;32m    381\u001b[0m         \"\"\"\n\u001b[0;32m    382\u001b[0m         \u001b[0msequences\u001b[0m \u001b[1;33m=\u001b[0m \u001b[0mself\u001b[0m\u001b[1;33m.\u001b[0m\u001b[0mtexts_to_sequences\u001b[0m\u001b[1;33m(\u001b[0m\u001b[0mtexts\u001b[0m\u001b[1;33m)\u001b[0m\u001b[1;33m\u001b[0m\u001b[1;33m\u001b[0m\u001b[0m\n\u001b[1;32m--> 383\u001b[1;33m         \u001b[1;32mreturn\u001b[0m \u001b[0mself\u001b[0m\u001b[1;33m.\u001b[0m\u001b[0msequences_to_matrix\u001b[0m\u001b[1;33m(\u001b[0m\u001b[0msequences\u001b[0m\u001b[1;33m,\u001b[0m \u001b[0mmode\u001b[0m\u001b[1;33m=\u001b[0m\u001b[0mmode\u001b[0m\u001b[1;33m)\u001b[0m\u001b[1;33m\u001b[0m\u001b[1;33m\u001b[0m\u001b[0m\n\u001b[0m\u001b[0;32m    384\u001b[0m \u001b[1;33m\u001b[0m\u001b[0m\n\u001b[0;32m    385\u001b[0m     \u001b[1;32mdef\u001b[0m \u001b[0msequences_to_matrix\u001b[0m\u001b[1;33m(\u001b[0m\u001b[0mself\u001b[0m\u001b[1;33m,\u001b[0m \u001b[0msequences\u001b[0m\u001b[1;33m,\u001b[0m \u001b[0mmode\u001b[0m\u001b[1;33m=\u001b[0m\u001b[1;34m'binary'\u001b[0m\u001b[1;33m)\u001b[0m\u001b[1;33m:\u001b[0m\u001b[1;33m\u001b[0m\u001b[1;33m\u001b[0m\u001b[0m\n",
      "\u001b[1;32m~\\.conda\\envs\\tensorflow\\lib\\site-packages\\keras_preprocessing\\text.py\u001b[0m in \u001b[0;36msequences_to_matrix\u001b[1;34m(self, sequences, mode)\u001b[0m\n\u001b[0;32m    402\u001b[0m                 \u001b[0mnum_words\u001b[0m \u001b[1;33m=\u001b[0m \u001b[0mlen\u001b[0m\u001b[1;33m(\u001b[0m\u001b[0mself\u001b[0m\u001b[1;33m.\u001b[0m\u001b[0mword_index\u001b[0m\u001b[1;33m)\u001b[0m \u001b[1;33m+\u001b[0m \u001b[1;36m1\u001b[0m\u001b[1;33m\u001b[0m\u001b[1;33m\u001b[0m\u001b[0m\n\u001b[0;32m    403\u001b[0m             \u001b[1;32melse\u001b[0m\u001b[1;33m:\u001b[0m\u001b[1;33m\u001b[0m\u001b[1;33m\u001b[0m\u001b[0m\n\u001b[1;32m--> 404\u001b[1;33m                 raise ValueError('Specify a dimension (`num_words` argument), '\n\u001b[0m\u001b[0;32m    405\u001b[0m                                  'or fit on some text data first.')\n\u001b[0;32m    406\u001b[0m         \u001b[1;32melse\u001b[0m\u001b[1;33m:\u001b[0m\u001b[1;33m\u001b[0m\u001b[1;33m\u001b[0m\u001b[0m\n",
      "\u001b[1;31mValueError\u001b[0m: Specify a dimension (`num_words` argument), or fit on some text data first."
     ]
    }
   ],
   "source": [
    "vocab = Counter()\n",
    "tokens = []\n",
    "\n",
    "tokenizer = Tokenizer()\n",
    "\n",
    "tokens, vocab = create_vocab(train_data_path,vocab)\n",
    "tokens, vocab = create_vocab(test_data_path,vocab)\n",
    "\n",
    "print(\"The 50 most common words: \"+str(vocab.most_common(50)))\n",
    "\n",
    "tokenizer, tokenized_train_data = transform_dataset(train_data_path,tokens,tokenizer)\n",
    "tokenizer, tokenized_test_data = transform_dataset(test_data_path,tokens,tokenizer)\n",
    "\n",
    "print(\"tokenized_train_data.shape : \"+str(tokenized_train_data.shape))\n",
    "print(\"tokenized_test_data.shape : \"+str(tokenized_test_data.shape))\n",
    "\n",
    "output_matrix(train_data_path, output_train_data_path, tokenized_train_data)\n",
    "output_matrix(test_data_path, output_test_data_path, tokenized_test_data)"
   ]
  },
  {
   "cell_type": "code",
   "execution_count": null,
   "id": "81f12c1b",
   "metadata": {},
   "outputs": [],
   "source": []
  },
  {
   "cell_type": "code",
   "execution_count": null,
   "id": "e079864b",
   "metadata": {},
   "outputs": [],
   "source": []
  }
 ],
 "metadata": {
  "kernelspec": {
   "display_name": "Python 3.8 (tensorflow)",
   "language": "python",
   "name": "tensorflow"
  },
  "language_info": {
   "codemirror_mode": {
    "name": "ipython",
    "version": 3
   },
   "file_extension": ".py",
   "mimetype": "text/x-python",
   "name": "python",
   "nbconvert_exporter": "python",
   "pygments_lexer": "ipython3",
   "version": "3.8.11"
  }
 },
 "nbformat": 4,
 "nbformat_minor": 5
}
