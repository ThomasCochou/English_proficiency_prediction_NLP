{
 "cells": [
  {
   "cell_type": "code",
   "execution_count": 1,
   "id": "121f8245",
   "metadata": {},
   "outputs": [],
   "source": [
    "from keras.datasets import imdb\n",
    "from keras import preprocessing\n",
    "from keras.models import Sequential\n",
    "from keras.layers import Flatten, Dense\n",
    "\n",
    "import os\n",
    "from bs4 import BeautifulSoup\n",
    "import re\n",
    "import xlrd"
   ]
  },
  {
   "cell_type": "code",
   "execution_count": 12,
   "id": "52b2a63f",
   "metadata": {},
   "outputs": [
    {
     "ename": "FileNotFoundError",
     "evalue": "[Errno 2] No such file or directory: './NICT_JLE_4.1/NICT_JLE_list.xls'",
     "output_type": "error",
     "traceback": [
      "\u001b[1;31m---------------------------------------------------------------------------\u001b[0m",
      "\u001b[1;31mFileNotFoundError\u001b[0m                         Traceback (most recent call last)",
      "\u001b[1;32m~\\AppData\\Local\\Temp/ipykernel_10452/1202475427.py\u001b[0m in \u001b[0;36m<module>\u001b[1;34m\u001b[0m\n\u001b[0;32m     18\u001b[0m         \u001b[0mos\u001b[0m\u001b[1;33m.\u001b[0m\u001b[0mmakedirs\u001b[0m\u001b[1;33m(\u001b[0m\u001b[0moutput_path\u001b[0m\u001b[1;33m+\u001b[0m\u001b[0mtest_data_path\u001b[0m\u001b[1;33m)\u001b[0m\u001b[1;33m\u001b[0m\u001b[1;33m\u001b[0m\u001b[0m\n\u001b[0;32m     19\u001b[0m \u001b[1;33m\u001b[0m\u001b[0m\n\u001b[1;32m---> 20\u001b[1;33m \u001b[0mwb\u001b[0m \u001b[1;33m=\u001b[0m \u001b[0mxlrd\u001b[0m\u001b[1;33m.\u001b[0m\u001b[0mopen_workbook\u001b[0m\u001b[1;33m(\u001b[0m\u001b[0mxls_path\u001b[0m\u001b[1;33m)\u001b[0m\u001b[1;33m\u001b[0m\u001b[1;33m\u001b[0m\u001b[0m\n\u001b[0m\u001b[0;32m     21\u001b[0m \u001b[0msheet\u001b[0m \u001b[1;33m=\u001b[0m \u001b[0mwb\u001b[0m\u001b[1;33m.\u001b[0m\u001b[0msheet_by_index\u001b[0m\u001b[1;33m(\u001b[0m\u001b[1;36m0\u001b[0m\u001b[1;33m)\u001b[0m\u001b[1;33m\u001b[0m\u001b[1;33m\u001b[0m\u001b[0m\n\u001b[0;32m     22\u001b[0m \u001b[1;33m\u001b[0m\u001b[0m\n",
      "\u001b[1;32m~\\.conda\\envs\\tensorflow\\lib\\site-packages\\xlrd\\__init__.py\u001b[0m in \u001b[0;36mopen_workbook\u001b[1;34m(filename, logfile, verbosity, use_mmap, file_contents, encoding_override, formatting_info, on_demand, ragged_rows, ignore_workbook_corruption)\u001b[0m\n\u001b[0;32m    164\u001b[0m     \"\"\"\n\u001b[0;32m    165\u001b[0m \u001b[1;33m\u001b[0m\u001b[0m\n\u001b[1;32m--> 166\u001b[1;33m     \u001b[0mfile_format\u001b[0m \u001b[1;33m=\u001b[0m \u001b[0minspect_format\u001b[0m\u001b[1;33m(\u001b[0m\u001b[0mfilename\u001b[0m\u001b[1;33m,\u001b[0m \u001b[0mfile_contents\u001b[0m\u001b[1;33m)\u001b[0m\u001b[1;33m\u001b[0m\u001b[1;33m\u001b[0m\u001b[0m\n\u001b[0m\u001b[0;32m    167\u001b[0m     \u001b[1;31m# We have to let unknown file formats pass through here, as some ancient\u001b[0m\u001b[1;33m\u001b[0m\u001b[1;33m\u001b[0m\u001b[1;33m\u001b[0m\u001b[0m\n\u001b[0;32m    168\u001b[0m     \u001b[1;31m# files that xlrd can parse don't start with the expected signature.\u001b[0m\u001b[1;33m\u001b[0m\u001b[1;33m\u001b[0m\u001b[1;33m\u001b[0m\u001b[0m\n",
      "\u001b[1;32m~\\.conda\\envs\\tensorflow\\lib\\site-packages\\xlrd\\__init__.py\u001b[0m in \u001b[0;36minspect_format\u001b[1;34m(path, content)\u001b[0m\n\u001b[0;32m     58\u001b[0m     \u001b[1;32melse\u001b[0m\u001b[1;33m:\u001b[0m\u001b[1;33m\u001b[0m\u001b[1;33m\u001b[0m\u001b[0m\n\u001b[0;32m     59\u001b[0m         \u001b[0mpath\u001b[0m \u001b[1;33m=\u001b[0m \u001b[0mos\u001b[0m\u001b[1;33m.\u001b[0m\u001b[0mpath\u001b[0m\u001b[1;33m.\u001b[0m\u001b[0mexpanduser\u001b[0m\u001b[1;33m(\u001b[0m\u001b[0mpath\u001b[0m\u001b[1;33m)\u001b[0m\u001b[1;33m\u001b[0m\u001b[1;33m\u001b[0m\u001b[0m\n\u001b[1;32m---> 60\u001b[1;33m         \u001b[1;32mwith\u001b[0m \u001b[0mopen\u001b[0m\u001b[1;33m(\u001b[0m\u001b[0mpath\u001b[0m\u001b[1;33m,\u001b[0m \u001b[1;34m\"rb\"\u001b[0m\u001b[1;33m)\u001b[0m \u001b[1;32mas\u001b[0m \u001b[0mf\u001b[0m\u001b[1;33m:\u001b[0m\u001b[1;33m\u001b[0m\u001b[1;33m\u001b[0m\u001b[0m\n\u001b[0m\u001b[0;32m     61\u001b[0m             \u001b[0mpeek\u001b[0m \u001b[1;33m=\u001b[0m \u001b[0mf\u001b[0m\u001b[1;33m.\u001b[0m\u001b[0mread\u001b[0m\u001b[1;33m(\u001b[0m\u001b[0mPEEK_SIZE\u001b[0m\u001b[1;33m)\u001b[0m\u001b[1;33m\u001b[0m\u001b[1;33m\u001b[0m\u001b[0m\n\u001b[0;32m     62\u001b[0m \u001b[1;33m\u001b[0m\u001b[0m\n",
      "\u001b[1;31mFileNotFoundError\u001b[0m: [Errno 2] No such file or directory: './NICT_JLE_4.1/NICT_JLE_list.xls'"
     ]
    }
   ],
   "source": [
    "input_path = \"./NICT_JLE_4.1/LearnerOriginal\"\n",
    "\n",
    "xls_path = \"./NICT_JLE_4.1/NICT_JLE_list.xls\"\n",
    "\n",
    "\n",
    "#PARAMETERS\n",
    "output_path = \"preprocessed_text/\"\n",
    "\n",
    "train_data_path = \"train_data/\"\n",
    "test_data_path = \"test_data/\"\n",
    "\n",
    "ratio_train_test = 0.7\n",
    "\n",
    "if not os.path.exists(output_path+train_data_path):\n",
    "\tos.makedirs(output_path+train_data_path)\n",
    "\n",
    "if not os.path.exists(output_path+test_data_path):\n",
    "\tos.makedirs(output_path+test_data_path)\n",
    "    \n",
    "wb = xlrd.open_workbook(xls_path)\n",
    "sheet = wb.sheet_by_index(0)\n",
    "\n",
    "os.chdir(input_path)\n",
    "\n",
    "folder_len = len([name for name in os.listdir() if (os.path.isfile(name) and name.endswith(\".txt\"))])\n",
    "\n",
    "cnt = 1"
   ]
  },
  {
   "cell_type": "code",
   "execution_count": null,
   "id": "a1d1d531",
   "metadata": {},
   "outputs": [],
   "source": []
  },
  {
   "cell_type": "code",
   "execution_count": 9,
   "id": "106253ee",
   "metadata": {},
   "outputs": [
    {
     "name": "stdout",
     "output_type": "stream",
     "text": [
      "Preprocessing = 1281/1281\r"
     ]
    }
   ],
   "source": [
    "for input_file in os.listdir():\n",
    "    if input_file.endswith(\".txt\"):\n",
    "\n",
    "        input_text = open(input_file,'r', errors='ignore')\n",
    "        input_string = input_text.read()\n",
    "        input_text.close()\n",
    "\n",
    "        soup = BeautifulSoup(input_string,'lxml')\n",
    "        input_soup = soup.find_all('b')\n",
    "        input_string = \"\".join(str(input_soup))\n",
    "\n",
    "        soup = BeautifulSoup(input_string,'lxml')\n",
    "        input_soup = soup.get_text()\n",
    "        input_string = \"\".join(str(input_soup))\n",
    "\n",
    "        input_string = re.sub(\">\",\"\",input_string)\n",
    "\n",
    "        pattern = re.compile('[a-zA-Z_ ]')\n",
    "        matches = pattern.findall(input_string)\n",
    "        preproccesed_text = \"\".join(matches)\n",
    "\n",
    "        if cnt < folder_len*ratio_train_test :\n",
    "        \tos.chdir(\"../../\"+output_path+train_data_path)\n",
    "        else :\n",
    "        \tos.chdir(\"../../\"+output_path+test_data_path)\n",
    "\n",
    "        for row_num in range(sheet.nrows):\n",
    "            row_value = sheet.row_values(row_num)\n",
    "            if row_value[0].split(\".\")[0] == input_file.split(\".\")[0] :\n",
    "                output_text = open(input_file.split(\".\")[0]+\"_\"+str(int(row_value[2]))+\".txt\", \"w\") \n",
    "                output_text.write(preproccesed_text)\n",
    "                output_text.close() \n",
    "\n",
    "        print(\"Preprocessing = \"+str(cnt)+\"/\"+str(folder_len), end=\"\\r\")\n",
    "\n",
    "        cnt += 1\n",
    "        os.chdir(\"../../\"+input_path)"
   ]
  },
  {
   "cell_type": "code",
   "execution_count": null,
   "id": "9bc66b31",
   "metadata": {},
   "outputs": [],
   "source": []
  }
 ],
 "metadata": {
  "kernelspec": {
   "display_name": "Python 3.8 (tensorflow)",
   "language": "python",
   "name": "tensorflow"
  },
  "language_info": {
   "codemirror_mode": {
    "name": "ipython",
    "version": 3
   },
   "file_extension": ".py",
   "mimetype": "text/x-python",
   "name": "python",
   "nbconvert_exporter": "python",
   "pygments_lexer": "ipython3",
   "version": "3.8.11"
  }
 },
 "nbformat": 4,
 "nbformat_minor": 5
}
